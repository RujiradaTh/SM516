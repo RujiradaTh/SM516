{
 "cells": [
  {
   "cell_type": "markdown",
   "metadata": {},
   "source": [
    "## From Real Python facebook \n",
    "Hoe to use any() in python"
   ]
  },
  {
   "cell_type": "code",
   "execution_count": 122,
   "metadata": {},
   "outputs": [
    {
     "name": "stdout",
     "output_type": "stream",
     "text": [
      "Scheduled interview with Susan Jones\n",
      "Scheduled interview with Sam Hughes\n"
     ]
    }
   ],
   "source": [
    "# recruit_developer.py\n",
    "def schedule_interview(applicant):\n",
    "    print(f\"Scheduled interview with {applicant['name']}\")\n",
    "#ปริ้น Scheduled interview with .... ตามชือจาก applicant\n",
    "applicants= [\n",
    "#ข้อมูลใน applicant\n",
    "    {\n",
    "        \"name\": \"Devon Smith\",\n",
    "        \"programming_languages\": [\"c++\", \"ada\"],\n",
    "        \"years_of_experience\": 1,\n",
    "        \"has_degree\": False,\n",
    "        \"email_address\": \"devon@email.com\",\n",
    "    },\n",
    "    {\n",
    "        \"name\": \"Susan Jones\",\n",
    "        \"programming_languages\": [\"python\", \"javascript\"],\n",
    "        \"years_of_experience\": 2,\n",
    "        \"has_degree\": False,\n",
    "        \"email_address\": \"susan@email.com\",\n",
    "    },\n",
    "    {\n",
    "        \"name\": \"Sam Hughes\",\n",
    "        \"programming_languages\": [\"java\"],\n",
    "        \"years_of_experience\": 4,\n",
    "        \"has_degree\": True,\n",
    "        \"email_address\": \"sam@email.com\",\n",
    "    },\n",
    "]\n",
    "for applicant in applicants:\n",
    "    knows_python = \"python\" in applicant[\"programming_languages\"]\n",
    "    experienced_dev = applicant[\"years_of_experience\"] >= 5\n",
    "    meets_criteria = (\n",
    "        knows_python\n",
    "        or experienced_dev\n",
    "        or applicant[\"has_degree\"]\n",
    "    )\n",
    "    \n",
    "    if meets_criteria:\n",
    "        schedule_interview(applicant)\n",
    "#เงื่อนไขการเลือกจากข้อมูลใน applicant ตามคุณสมบัติถ้าหากตรงตามเงื่อนไข ให้เลือกมาสัมภาษณ์"
   ]
  },
  {
   "cell_type": "markdown",
   "metadata": {},
   "source": [
    "    In the above example, you check each applicant’s credentials and schedule an interview if the applicant meets any of your three criteria."
   ]
  },
  {
   "cell_type": "markdown",
   "metadata": {},
   "source": [
    "When you use any() in Python, keep in mind that you can pass any iterable as an argument:\n",
    "<br>//any เช็ค True False"
   ]
  },
  {
   "cell_type": "code",
   "execution_count": 31,
   "metadata": {},
   "outputs": [
    {
     "data": {
      "text/plain": [
       "True"
      ]
     },
     "execution_count": 31,
     "metadata": {},
     "output_type": "execute_result"
    }
   ],
   "source": [
    "any([0, 0, 1, 0])"
   ]
  },
  {
   "cell_type": "code",
   "execution_count": 32,
   "metadata": {},
   "outputs": [
    {
     "data": {
      "text/plain": [
       "True"
      ]
     },
     "execution_count": 32,
     "metadata": {},
     "output_type": "execute_result"
    }
   ],
   "source": [
    "any(set((True, False, False)))"
   ]
  },
  {
   "cell_type": "code",
   "execution_count": 33,
   "metadata": {},
   "outputs": [
    {
     "data": {
      "text/plain": [
       "False"
      ]
     },
     "execution_count": 33,
     "metadata": {},
     "output_type": "execute_result"
    }
   ],
   "source": [
    "any(map(str.isdigit, \"Hello world\"))"
   ]
  },
  {
   "cell_type": "markdown",
   "metadata": {},
   "source": [
    "In each example, any() loops through a different Python iterable, testing the truth of each element until it finds a truthy value or checks every element."
   ]
  },
  {
   "cell_type": "markdown",
   "metadata": {},
   "source": [
    "## How to Distinguish Between or and any()\n",
    "There are two main differences between or and any() in Python:\n",
    "<br>ความแตกต่างระหว่าง or และ any\n",
    "<br>\n",
    "<br>- Syntax \n",
    "<br>- Return value\n",
    "<br>First, you’ll learn about how syntax affects the usability and reliability of each tool. Second, you’ll learn the types of values that each tool returns. Knowing these differences will help you decide which tool is best for a given situation."
   ]
  },
  {
   "cell_type": "code",
   "execution_count": 21,
   "metadata": {},
   "outputs": [
    {
     "data": {
      "text/plain": [
       "True"
      ]
     },
     "execution_count": 21,
     "metadata": {},
     "output_type": "execute_result"
    }
   ],
   "source": [
    "True or False"
   ]
  },
  {
   "cell_type": "code",
   "execution_count": 25,
   "metadata": {},
   "outputs": [
    {
     "data": {
      "text/plain": [
       "True"
      ]
     },
     "execution_count": 25,
     "metadata": {},
     "output_type": "execute_result"
    }
   ],
   "source": [
    "any((False, True))"
   ]
  },
  {
   "cell_type": "markdown",
   "metadata": {},
   "source": [
    "To get similar behavior from or, you’d need to use a loop or a function like reduce():"
   ]
  },
  {
   "cell_type": "code",
   "execution_count": 7,
   "metadata": {},
   "outputs": [
    {
     "data": {
      "text/plain": [
       "True"
      ]
     },
     "execution_count": 7,
     "metadata": {},
     "output_type": "execute_result"
    }
   ],
   "source": [
    "import functools\n",
    "functools.reduce(lambda x, y: x or y, (True, False, False))\n",
    "True"
   ]
  },
  {
   "cell_type": "markdown",
   "metadata": {},
   "source": [
    "    In the above example, you used reduce() to pass an iterable as an argument to or. This could be done much more efficiently with any, which directly accepts iterables as arguments.\n",
    "    จากคำสั่งตัวอย่างจะเลือกทำตามคำสั่ง any ก่อน or"
   ]
  },
  {
   "cell_type": "markdown",
   "metadata": {},
   "source": [
    "You now know:\n",
    "\n",
    "* How to use any() in Python\n",
    "* Why you’d use any() instead of or"
   ]
  },
  {
   "cell_type": "markdown",
   "metadata": {},
   "source": [
    "## เอกสารอ้างอิง\n",
    "- Reference website : [real python facebook](https://realpython.com/any-python/?fbclid=IwAR3P7a6wM7dlRTWuMB946M9jyZGp5U2hvRgOBtVwG33K1d9P3tXsL1s1Wqk)\n"
   ]
  },
  {
   "cell_type": "code",
   "execution_count": null,
   "metadata": {},
   "outputs": [],
   "source": []
  }
 ],
 "metadata": {
  "kernelspec": {
   "display_name": "Python 3",
   "language": "python",
   "name": "python3"
  },
  "language_info": {
   "codemirror_mode": {
    "name": "ipython",
    "version": 3
   },
   "file_extension": ".py",
   "mimetype": "text/x-python",
   "name": "python",
   "nbconvert_exporter": "python",
   "pygments_lexer": "ipython3",
   "version": "3.7.6"
  }
 },
 "nbformat": 4,
 "nbformat_minor": 2
}
